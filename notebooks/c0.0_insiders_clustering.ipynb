{
 "cells": [
  {
   "cell_type": "markdown",
   "metadata": {},
   "source": [
    "##"
   ]
  },
  {
   "cell_type": "markdown",
   "metadata": {},
   "source": [
    "# PA005: High Value Customer Identification (Insiders)\n"
   ]
  },
  {
   "cell_type": "markdown",
   "metadata": {},
   "source": [
    "## Solution Planning (IOT)"
   ]
  },
  {
   "cell_type": "markdown",
   "metadata": {},
   "source": [
    "### Input"
   ]
  },
  {
   "cell_type": "markdown",
   "metadata": {},
   "source": [
    "1. Problema de negócio\n",
    "    - Selecionar os clientes mais valiosos para integrar um programa de fidelização\n",
    "2. Conjunto de dados\n",
    "    - Vendas de um e-commerce online, durante o período de um ano"
   ]
  },
  {
   "cell_type": "markdown",
   "metadata": {},
   "source": [
    "### Output"
   ]
  },
  {
   "cell_type": "markdown",
   "metadata": {},
   "source": [
    "1. A identificação das pessoas que farão parte do programa de Insiders\n",
    "2. Relatório com perguntas de negócio:\n",
    "\n",
    "    - **1) Who are the people eligible to participate in the Insiders program?**\n",
    "\n",
    "    - **2) How many customers will be part of the group?**\n",
    "\n",
    "    - **3) What are the main characteristics of these customers?** \n",
    "\n",
    "    - **4) What percentage of revenue contribution comes from Insiders?**\n",
    "\n",
    "    - **5) What is the billing expectation of this group for the coming months?**\n",
    "    - **6) What are the conditions for a person to be eligible for Insiders? trashhold**\n",
    "    - **7) What are the conditions for a person to be removed from Insiders?**\n",
    "    - **8) What is the guarantee that the Insiders program is better than the rest of the base?**\n",
    "    - **9) What actions can the marketing team take to increase revenue?**"
   ]
  },
  {
   "cell_type": "markdown",
   "metadata": {},
   "source": [
    "### Tasks"
   ]
  },
  {
   "cell_type": "markdown",
   "metadata": {},
   "source": [
    "**1) Who are the people eligible to participate in the Insiders program?**\n",
    "    \n",
    "    O que é ser elegível? O que são clientes de maior valor?\n",
    "    \n",
    "    Faturamento:\n",
    "        \n",
    "        - Alto ticket médio\n",
    "        - Alto LTV\n",
    "        - Baixa Recência\n",
    "        - Alto basket size\n",
    "        - Baixa probabilidade de Churn\n",
    "        - Alta propensão de compras\n",
    "\n",
    "    Custo:\n",
    "        \n",
    "        - Baixo taxa de devolução\n",
    "\n",
    "    Experiência de compra:\n",
    "\n",
    "        - Média alta das avaliações\n",
    "\n",
    "**2) How many customers will be part of the group?**\n",
    "\n",
    "    - Número total de clientes\n",
    "    - % do grupo Insiders\n",
    "    \n",
    "\n",
    "**3) What are the main characteristics of these customers?** \n",
    "\n",
    "    - Escrever características do cliente:\n",
    "        \n",
    "        - Idade\n",
    "        - Localização\n",
    "\n",
    "    - Características do consumo:\n",
    "\n",
    "        - Atributos da clusterização\n",
    "\n",
    "**4) What percentage of revenue contribution comes from Insiders?**\n",
    "\n",
    "    - Faturamento total do ano\n",
    "    - Faturamento do grupo Insiders\n",
    "\n",
    "**5) What is the billing expectation of this group for the coming months?**\n",
    "\n",
    "    - LTV do grupo Insiders\n",
    "    - Análise de Cohort\n",
    "\n",
    "**6) What are the conditions for a person to be eligible for Insiders?**\n",
    "\n",
    "    - Definir a periodicidade (1 mes, 3 meses)\n",
    "    - A pessoa precisa ser similar ou parecido com uma pessoa  do grupo\n",
    "\n",
    "**7) What are the conditions for a person to be removed from Insiders?**\n",
    "\n",
    "    - Definir a periodicidade (1 mes, 3 meses)\n",
    "    - A pessoa precisa ser desimilar ou parecido com uma pessoa  do grupo\n",
    "\n",
    "**8) What is the guarantee that the Insiders program is better than the rest of the base?**\n",
    "\n",
    "    - Teste A/B\n",
    "    - Teste A/B Bayesiano\n",
    "    - Teste de hipóteses\n",
    "\n",
    "**9) What actions can the marketing team take to increase revenue?**\n",
    "\n",
    "    - Desconto\n",
    "    - Preferência de compra\n",
    "    - Frete"
   ]
  },
  {
   "cell_type": "markdown",
   "metadata": {},
   "source": [
    "## Benchmark Solution"
   ]
  },
  {
   "cell_type": "markdown",
   "metadata": {},
   "source": [
    "### 1.0 Desk Research"
   ]
  }
 ],
 "metadata": {
  "kernelspec": {
   "display_name": "Python 3.10.4 64-bit ('coodesh_env')",
   "language": "python",
   "name": "python3"
  },
  "language_info": {
   "name": "python",
   "version": "3.10.6"
  },
  "orig_nbformat": 4,
  "vscode": {
   "interpreter": {
    "hash": "9a9671ccc6e440e5302f15a01ebe2d7c362c98d5bd1cb4e4a609f69fdff3b629"
   }
  }
 },
 "nbformat": 4,
 "nbformat_minor": 2
}
